{
 "cells": [
  {
   "cell_type": "markdown",
   "id": "8adeae30",
   "metadata": {},
   "source": [
    "## Imports "
   ]
  },
  {
   "cell_type": "code",
   "execution_count": 11,
   "id": "e7e87dcb",
   "metadata": {},
   "outputs": [],
   "source": [
    "import numpy as np\n",
    "import keras\n",
    "import pandas as pd\n",
    "import yfinance as yf\n",
    "import matplotlib.pyplot as plt\n",
    "import tensorflow as tf\n",
    "from datetime import datetime, timedelta\n",
    "import os"
   ]
  },
  {
   "cell_type": "markdown",
   "id": "73bc1287",
   "metadata": {},
   "source": [
    "## Getting data from yfinance"
   ]
  },
  {
   "cell_type": "code",
   "execution_count": 12,
   "id": "2ec0e799",
   "metadata": {},
   "outputs": [
    {
     "name": "stderr",
     "output_type": "stream",
     "text": [
      "[*********************100%***********************]  1 of 1 completed\n"
     ]
    }
   ],
   "source": [
    "ticker = 'AAPL'\n",
    "stockDataName = f'{ticker}_StockData.csv'\n",
    "end_date = datetime.today()\n",
    "# print(end_date)\n",
    "start_date = end_date - timedelta(days=365 * 30)\n",
    "# print(start_date)\n",
    "data = yf.download(ticker, start=start_date, end=end_date)\n",
    "output_path = os.path.join(os.getcwd(), 'dataset', stockDataName)\n",
    "data.to_csv(output_path)"
   ]
  },
  {
   "cell_type": "markdown",
   "id": "471ba85f",
   "metadata": {},
   "source": [
    "## Cleaning data"
   ]
  },
  {
   "cell_type": "code",
   "execution_count": 14,
   "id": "acfec762",
   "metadata": {},
   "outputs": [
    {
     "name": "stdout",
     "output_type": "stream",
     "text": [
      "               Close      High       Low      Open     Volume\n",
      "Date                                                         \n",
      "1995-05-08  0.302087  0.305816  0.296493  0.297425  386971200\n",
      "1995-05-09  0.307681  0.308614  0.298357  0.303019  322929600\n",
      "1995-05-10  0.309080  0.312343  0.303951  0.309546  275072000\n",
      "1995-05-11  0.305816  0.310478  0.301154  0.310478  523622400\n",
      "1995-05-12  0.325396  0.325862  0.302087  0.304884  647953600\n",
      "Close     0\n",
      "High      0\n",
      "Low       0\n",
      "Open      0\n",
      "Volume    0\n",
      "dtype: int64\n"
     ]
    }
   ],
   "source": [
    "# Load data and parse dates\n",
    "df = pd.read_csv(f'dataset/{stockDataName}', skiprows=[1, 2], parse_dates=['Price'])\n",
    "\n",
    "# Rename 'Price' to 'Date'\n",
    "df = df.rename(columns={'Price': 'Date'})\n",
    "df = df.set_index('Date')\n",
    "\n",
    "print(df.head())  # Check the first few rows\n",
    "print(df.isnull().sum())  # Check for missing values\n",
    "\n",
    "df = df.drop('Volume', axis=1)  # Drop the 'Volume' column\n",
    "\n",
    "df['Range'] = df['High'] - df['Low']  # Create a new column 'Range'\n",
    "df = df.drop(['High', 'Low'], axis=1)  # Drop the 'High' and 'Low' columns\n",
    "\n",
    "# Calculate the 20-day moving average\n",
    "df['MA-20'] = df['Close'].rolling(window=20).mean()\n",
    "# Calculate the 50-day moving average\n",
    "df['MA-50'] = df['Close'].rolling(window=50).mean()\n",
    "df = df.dropna()  # Drop rows with missing values\n",
    "\n",
    "\n",
    "# Fill missing values\n",
    "\n",
    "# Generate a complete date range and forward-fill missing values\n",
    "df = df.asfreq('D', method='ffill')  # Forward-fill prices on non-trading days\n",
    "df = df[~df.index.duplicated(keep='first')]  # Remove duplicate dates\n",
    "\n",
    "# Save cleaned data to a new file\n",
    "cleanedStockDataName = f'{ticker}_CleanedStockData.csv'\n",
    "df.to_csv(f'dataset/{cleanedStockDataName}')"
   ]
  },
  {
   "cell_type": "markdown",
   "id": "5887287e",
   "metadata": {},
   "source": [
    "## Defining the function to build the model"
   ]
  },
  {
   "cell_type": "code",
   "execution_count": 15,
   "id": "b8d258ff",
   "metadata": {},
   "outputs": [],
   "source": [
    "from tensorflow.keras.models import Model\n",
    "from tensorflow.keras.layers import (\n",
    "    Input, LSTM, Dropout, BatchNormalization,\n",
    "    AdditiveAttention, Dense, Flatten, Permute, Reshape, Multiply\n",
    ")\n",
    "from tensorflow.keras.callbacks import EarlyStopping, CSVLogger\n",
    "from sklearn.preprocessing import MinMaxScaler\n",
    "from sklearn.metrics import mean_absolute_error, mean_squared_error\n",
    "\n",
    "\n",
    "\n",
    "def train_lstm_model(\n",
    "    csv_path,\n",
    "    sequence_length=100,\n",
    "    batch_size=25,\n",
    "    epochs=100,\n",
    "    validation_split=0.2,\n",
    "    patience=10\n",
    "):\n",
    "    \"\"\"\n",
    "    Trains an LSTM model with attention mechanism on stock Close price data.\n",
    "\n",
    "    Args:\n",
    "        csv_path (str): Path to the cleaned CSV file.\n",
    "        sequence_length (int): Number of days to use for each input sequence.\n",
    "        batch_size (int): Batch size for model training.\n",
    "        epochs (int): Number of epochs to train.\n",
    "        validation_split (float): Fraction of training data to use for validation.\n",
    "        patience (int): Number of epochs to wait for EarlyStopping.\n",
    "\n",
    "    Returns:\n",
    "        model (tf.keras.Model): Trained Keras model.\n",
    "        history (History object): Training history.\n",
    "        scaler (MinMaxScaler): Fitted scaler (for inverse transforming predictions later).\n",
    "    \"\"\"\n",
    "    # --- Load and Preprocess Data ---\n",
    "    data = pd.read_csv(csv_path)\n",
    "    data = data.drop(columns=['Date'])\n",
    "\n",
    "    # Scale the 'Close' price\n",
    "    scaler = MinMaxScaler(feature_range=(0, 1))\n",
    "    close_scaled = scaler.fit_transform(data['Close'].values.reshape(-1, 1))\n",
    "\n",
    "    # Create sequences\n",
    "    X, y = [], []\n",
    "    for i in range(sequence_length, len(close_scaled)):\n",
    "        X.append(close_scaled[i-sequence_length:i, 0])\n",
    "        y.append(close_scaled[i, 0])\n",
    "\n",
    "    X, y = np.array(X), np.array(y)\n",
    "\n",
    "    # Train/Test Split\n",
    "    train_size = int(0.8 * len(X))\n",
    "    X_train, X_test = X[:train_size], X[train_size:]\n",
    "    y_train, y_test = y[:train_size], y[train_size:]\n",
    "\n",
    "    # Reshape input for LSTM\n",
    "    X_train = X_train.reshape((X_train.shape[0], X_train.shape[1], 1))\n",
    "    X_test = X_test.reshape((X_test.shape[0], X_test.shape[1], 1))\n",
    "\n",
    "    # --- Build Model ---\n",
    "    input_layer = Input(shape=(X_train.shape[1], 1))\n",
    "\n",
    "    x = LSTM(50, return_sequences=True)(input_layer)\n",
    "    x = Dropout(0.2)(x)\n",
    "    x = BatchNormalization()(x)\n",
    "    x = LSTM(50, return_sequences=True)(x)\n",
    "\n",
    "    # Attention mechanism\n",
    "    permute = Permute((2, 1))(x)\n",
    "    reshape = Reshape((50, X_train.shape[1]))(permute)\n",
    "    attention = AdditiveAttention(name='attention_weight')([reshape, reshape])\n",
    "    attention = Permute((2, 1))(attention)\n",
    "    attention = Reshape((X_train.shape[1], 50))(attention)\n",
    "\n",
    "    x = Multiply()([x, attention])\n",
    "    x = Flatten()(x)\n",
    "    output = Dense(1)(x)\n",
    "\n",
    "    model = Model(inputs=input_layer, outputs=output)\n",
    "    model.compile(optimizer='adam', loss='mean_squared_error')\n",
    "\n",
    "    # --- Callbacks ---\n",
    "    early_stopping = EarlyStopping(\n",
    "        monitor='val_loss', patience=patience, restore_best_weights=True)\n",
    "    csv_logger = CSVLogger('training_log.csv')\n",
    "\n",
    "    # --- Train Model ---\n",
    "    history = model.fit(\n",
    "        X_train, y_train,\n",
    "        epochs=epochs,\n",
    "        batch_size=batch_size,\n",
    "        validation_split=validation_split,\n",
    "        callbacks=[early_stopping, csv_logger]\n",
    "    )\n",
    "\n",
    "    # --- Evaluate Model ---\n",
    "    y_pred = model.predict(X_test)\n",
    "\n",
    "    mae = mean_absolute_error(y_test, y_pred)\n",
    "    # rmse = mean_squared_error(y_test, y_pred, squared=False)\n",
    "\n",
    "    print(f\"\\nTest MAE: {mae:.5f}\")\n",
    "    # print(f\"Test RMSE: {rmse:.5f}\")\n",
    "\n",
    "    return model, history, scaler\n",
    "\n",
    "\n",
    "def plot_training_history(history, save_path=None):\n",
    "    \"\"\"\n",
    "    Plots the training and validation loss from a Keras model history.\n",
    "\n",
    "    Args:\n",
    "        history: History object returned by model.fit()\n",
    "        save_path (str, optional): If provided, saves the plot to this filepath.\n",
    "    \"\"\"\n",
    "    plt.figure(figsize=(10, 6))\n",
    "    plt.plot(history.history['loss'], label='Training Loss', linewidth=2)\n",
    "    plt.plot(history.history['val_loss'], label='Validation Loss', linewidth=2)\n",
    "    plt.title('Training vs Validation Loss Over Epochs')\n",
    "    plt.xlabel('Epochs')\n",
    "    plt.ylabel('Loss (MSE)')\n",
    "    plt.legend()\n",
    "    plt.grid(True)\n",
    "\n",
    "    if save_path:\n",
    "        plt.savefig(save_path, bbox_inches='tight')  # Save the plot\n",
    "        print(f\"Training history plot saved to {save_path}\")\n",
    "\n",
    "    plt.show()"
   ]
  },
  {
   "cell_type": "markdown",
   "id": "e412b8fa",
   "metadata": {},
   "source": [
    "## Building the model"
   ]
  },
  {
   "cell_type": "code",
   "execution_count": 16,
   "id": "f5c94e80",
   "metadata": {},
   "outputs": [
    {
     "name": "stdout",
     "output_type": "stream",
     "text": [
      "AAPL_CleanedStockData.csv\n",
      "Epoch 1/100\n",
      "\u001b[1m276/276\u001b[0m \u001b[32m━━━━━━━━━━━━━━━━━━━━\u001b[0m\u001b[37m\u001b[0m \u001b[1m10s\u001b[0m 33ms/step - loss: 1.5053e-04 - val_loss: 0.0108\n",
      "Epoch 2/100\n",
      "\u001b[1m276/276\u001b[0m \u001b[32m━━━━━━━━━━━━━━━━━━━━\u001b[0m\u001b[37m\u001b[0m \u001b[1m9s\u001b[0m 33ms/step - loss: 2.0943e-05 - val_loss: 0.0054\n",
      "Epoch 3/100\n",
      "\u001b[1m276/276\u001b[0m \u001b[32m━━━━━━━━━━━━━━━━━━━━\u001b[0m\u001b[37m\u001b[0m \u001b[1m9s\u001b[0m 33ms/step - loss: 1.9339e-05 - val_loss: 0.0020\n",
      "Epoch 4/100\n",
      "\u001b[1m276/276\u001b[0m \u001b[32m━━━━━━━━━━━━━━━━━━━━\u001b[0m\u001b[37m\u001b[0m \u001b[1m9s\u001b[0m 33ms/step - loss: 2.6975e-05 - val_loss: 0.0011\n",
      "Epoch 5/100\n",
      "\u001b[1m276/276\u001b[0m \u001b[32m━━━━━━━━━━━━━━━━━━━━\u001b[0m\u001b[37m\u001b[0m \u001b[1m9s\u001b[0m 33ms/step - loss: 1.5565e-05 - val_loss: 0.0015\n",
      "Epoch 6/100\n",
      "\u001b[1m276/276\u001b[0m \u001b[32m━━━━━━━━━━━━━━━━━━━━\u001b[0m\u001b[37m\u001b[0m \u001b[1m9s\u001b[0m 33ms/step - loss: 1.9494e-05 - val_loss: 2.7031e-04\n",
      "Epoch 7/100\n",
      "\u001b[1m276/276\u001b[0m \u001b[32m━━━━━━━━━━━━━━━━━━━━\u001b[0m\u001b[37m\u001b[0m \u001b[1m9s\u001b[0m 33ms/step - loss: 2.1800e-05 - val_loss: 0.0019\n",
      "Epoch 8/100\n",
      "\u001b[1m276/276\u001b[0m \u001b[32m━━━━━━━━━━━━━━━━━━━━\u001b[0m\u001b[37m\u001b[0m \u001b[1m9s\u001b[0m 33ms/step - loss: 1.9709e-05 - val_loss: 0.0012\n",
      "Epoch 9/100\n",
      "\u001b[1m276/276\u001b[0m \u001b[32m━━━━━━━━━━━━━━━━━━━━\u001b[0m\u001b[37m\u001b[0m \u001b[1m9s\u001b[0m 33ms/step - loss: 1.6708e-05 - val_loss: 0.0016\n",
      "Epoch 10/100\n",
      "\u001b[1m276/276\u001b[0m \u001b[32m━━━━━━━━━━━━━━━━━━━━\u001b[0m\u001b[37m\u001b[0m \u001b[1m9s\u001b[0m 33ms/step - loss: 1.8297e-05 - val_loss: 0.0018\n",
      "Epoch 11/100\n",
      "\u001b[1m276/276\u001b[0m \u001b[32m━━━━━━━━━━━━━━━━━━━━\u001b[0m\u001b[37m\u001b[0m \u001b[1m9s\u001b[0m 33ms/step - loss: 1.7511e-05 - val_loss: 0.0037\n",
      "Epoch 12/100\n",
      "\u001b[1m276/276\u001b[0m \u001b[32m━━━━━━━━━━━━━━━━━━━━\u001b[0m\u001b[37m\u001b[0m \u001b[1m9s\u001b[0m 33ms/step - loss: 2.0945e-05 - val_loss: 0.0017\n",
      "Epoch 13/100\n",
      "\u001b[1m276/276\u001b[0m \u001b[32m━━━━━━━━━━━━━━━━━━━━\u001b[0m\u001b[37m\u001b[0m \u001b[1m9s\u001b[0m 33ms/step - loss: 1.4484e-05 - val_loss: 8.1598e-04\n",
      "Epoch 14/100\n",
      "\u001b[1m276/276\u001b[0m \u001b[32m━━━━━━━━━━━━━━━━━━━━\u001b[0m\u001b[37m\u001b[0m \u001b[1m9s\u001b[0m 34ms/step - loss: 1.1758e-05 - val_loss: 0.0010\n",
      "Epoch 15/100\n",
      "\u001b[1m276/276\u001b[0m \u001b[32m━━━━━━━━━━━━━━━━━━━━\u001b[0m\u001b[37m\u001b[0m \u001b[1m9s\u001b[0m 33ms/step - loss: 1.3409e-05 - val_loss: 0.0015\n",
      "Epoch 16/100\n",
      "\u001b[1m276/276\u001b[0m \u001b[32m━━━━━━━━━━━━━━━━━━━━\u001b[0m\u001b[37m\u001b[0m \u001b[1m9s\u001b[0m 33ms/step - loss: 1.0032e-05 - val_loss: 0.0013\n",
      "\u001b[1m68/68\u001b[0m \u001b[32m━━━━━━━━━━━━━━━━━━━━\u001b[0m\u001b[37m\u001b[0m \u001b[1m1s\u001b[0m 11ms/step\n",
      "\n",
      "Test MAE: 0.40911\n",
      "Training history plot saved to training_history.png\n"
     ]
    },
    {
     "data": {
      "image/png": "[encoded data removed]",
      "text/plain": [
       "<Figure size 1000x600 with 1 Axes>"
      ]
     },
     "metadata": {},
     "output_type": "display_data"
    },
    {
     "name": "stderr",
     "output_type": "stream",
     "text": [
      "WARNING:absl:You are saving your model as an HDF5 file via `model.save()` or `keras.saving.save_model(model)`. This file format is considered legacy. We recommend using instead the native Keras format, e.g. `model.save('my_model.keras')` or `keras.saving.save_model(model, 'my_model.keras')`. \n"
     ]
    }
   ],
   "source": [
    "print(cleanedStockDataName)\n",
    "model, history, scaler = train_lstm_model(f'dataset/{cleanedStockDataName}')\n",
    "plot_training_history(history, save_path='training_history.png')\n",
    "model.save('models/my_lstm_model.h5')  # or use .keras"
   ]
  }
 ],
 "metadata": {
  "kernelspec": {
   "display_name": "venv",
   "language": "python",
   "name": "python3"
  },
  "language_info": {
   "codemirror_mode": {
    "name": "ipython",
    "version": 3
   },
   "file_extension": ".py",
   "mimetype": "text/x-python",
   "name": "python",
   "nbconvert_exporter": "python",
   "pygments_lexer": "ipython3",
   "version": "3.12.9"
  }
 },
 "nbformat": 4,
 "nbformat_minor": 5
}
